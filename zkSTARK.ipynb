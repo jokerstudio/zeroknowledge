{
 "cells": [
  {
   "cell_type": "code",
   "execution_count": 6,
   "id": "fc16b792-b9c3-4dfa-ae36-7638c4ab0b16",
   "metadata": {},
   "outputs": [],
   "source": [
    "#Import Packages\n",
    "import numpy as np               #version: 1.21.5\n",
    "import sympy                     #version: 1.10.1\n",
    "import galois\n",
    "from sympy import poly, ntt, intt, Poly\n",
    "from sympy.abc import x, y\n",
    "import matplotlib.pyplot as plt  #version: 3.5.1\n",
    "from merkle import MerkleTree, verify_decommitment  #The Merkle tree implementation is used from StarkWare Industries Ltd."
   ]
  },
  {
   "cell_type": "markdown",
   "id": "f673dacf-bbfb-406e-89d5-59df4b567b93",
   "metadata": {},
   "source": [
    "# 1 Definition of the Problem"
   ]
  },
  {
   "cell_type": "markdown",
   "id": "d0149c41-ca8a-445c-8fb1-c50c60ab3af3",
   "metadata": {},
   "source": [
    "## 1.1 CI Statement, Trace and Polynomial Constraints"
   ]
  },
  {
   "cell_type": "code",
   "execution_count": 7,
   "id": "8755a91d-cb93-4514-93e1-5d967d0be923",
   "metadata": {},
   "outputs": [
    {
     "name": "stdout",
     "output_type": "stream",
     "text": [
      "A =  [1, 0, 1, 1]  | The trace (A) is -->  True\n"
     ]
    }
   ],
   "source": [
    "#Number of elements in the trace. Has to be power of 2 in our example. You can try 2**3,2**4,2**5 etc, but need to adjust M below.\n",
    "N = 2**2\n",
    "\n",
    "#Define the trace A, for replicability set seed to 5\n",
    "np.random.seed(5)\n",
    "A = list(np.random.randint(low = 0,high=2,size=N))\n",
    "\n",
    "assert len(A)==N, \"length of A is different from N\"     # Check that A has length specified in N\n",
    "assert (N & (N - 1)) == 0, \"N not a power of 2\" # Make sure that N is a power of 2\n",
    "print('A = ', A, ' | The trace (A) is --> ', np.isin(A, [0, 1]).all())"
   ]
  },
  {
   "cell_type": "markdown",
   "id": "00bbea83-fc76-4b45-8d3e-3bba7d83d958",
   "metadata": {},
   "source": [
    "## 1.2 Finite Field"
   ]
  },
  {
   "cell_type": "code",
   "execution_count": 8,
   "id": "11b08d0f-d5e8-4056-b5ff-fe2c189b63e3",
   "metadata": {},
   "outputs": [
    {
     "name": "stdout",
     "output_type": "stream",
     "text": [
      "The Finite Field is: GF(17) = [ 0  1  2  3  4  5  6  7  8  9 10 11 12 13 14 15 16]\n"
     ]
    }
   ],
   "source": [
    "M = 2**4+1                                              #Can alternatively choose 2**8+1, 2**16+1 etc\n",
    "F = sympy.FiniteField(M)\n",
    "def toInt(a):                                           #We define this function to be able to calculate integere values from the finite field expressions\n",
    "    return int(sympy.FiniteField.to_sympy(0,a) % M)     #and to always get the positive integer realization and not the negative one.\n",
    "assert sympy.isprime(M), f\"M not a prime\"               #Assert that M is a prime number\n",
    "assert (M-1) % N == 0, f\"N must be a divisor of (M-1)\"    #N must be a divisor of (M-1) such that a subgroup exists\n",
    "print('The Finite Field is:', F, '=', np.arange(0,M))"
   ]
  },
  {
   "cell_type": "code",
   "execution_count": 9,
   "id": "4d315084-0579-4bea-9f5e-c4c3da735902",
   "metadata": {},
   "outputs": [
    {
     "name": "stdout",
     "output_type": "stream",
     "text": [
      "The multiplicative inverses of F(M) are:  [1, 9, 6, 13, 7, 3, 5, 15, 2, 12, 14, 10, 4, 11, 8, 16]\n"
     ]
    }
   ],
   "source": [
    "F_inv = [0] * (M - 1)\n",
    "for i in range(1,M):\n",
    "    F_inv[i-1] = toInt(F(i)**(M-2))\n",
    "              \n",
    "print('The multiplicative inverses of F(M) are: ', F_inv)"
   ]
  },
  {
   "cell_type": "markdown",
   "id": "d3f4d733-6d92-4f64-9a01-bad325941184",
   "metadata": {},
   "source": [
    "# 2 Arithmetization"
   ]
  },
  {
   "cell_type": "markdown",
   "id": "041a1b2e-a17d-4f1e-b5a7-48af2cdc1a83",
   "metadata": {},
   "source": [
    "## 2.1 Evaluating Trace as a Polynomial"
   ]
  },
  {
   "cell_type": "code",
   "execution_count": 10,
   "id": "b39c4b80-9091-483a-8e8e-be758f7dee9e",
   "metadata": {},
   "outputs": [
    {
     "name": "stdout",
     "output_type": "stream",
     "text": [
      "The generator g of the subgroup is --> 13\n",
      "The subgroup G is --> [ 1 13 16  4]\n"
     ]
    }
   ],
   "source": [
    "# # Find generator g\n",
    "# G = [0] * M\n",
    "# print(range(1,M+1))\n",
    "# g = 0\n",
    "# for i in range(1,M+1):\n",
    "#     G[0] = i\n",
    "#     for k in range(2,M+1):\n",
    "#         G[k-1] = G[k-2]*G[0] % M\n",
    "#     if len(np.unique(G)) == N:\n",
    "#         g = i\n",
    "#         break       \n",
    "# assert g!=0, \"No generator g found\"\n",
    "# print('The G in M is -->', G)\n",
    "# print('The generator g of the subgroup is -->', g)\n",
    "\n",
    "# ## Define subgroup G\n",
    "# G[0] = 1\n",
    "# G[1] = g\n",
    "# for i in range(2,M):\n",
    "#     G[i-1] = G[i-2]*g % M\n",
    "# G = np.unique(G)\n",
    "# print('The subgroup G is -->', G)\n",
    "\n",
    "# Find G in L domain with root of unity in galois field\n",
    "FP = galois.GF(M)\n",
    "g = FP.primitive_root_of_unity(N)\n",
    "G = np.array([int(g**i) for i in range(N)])\n",
    "print('The generator g of the subgroup is -->', g)\n",
    "print('The subgroup G is -->', G)"
   ]
  },
  {
   "cell_type": "code",
   "execution_count": 11,
   "id": "095b1c4d-464d-4116-88cb-8305cf48123a",
   "metadata": {},
   "outputs": [
    {
     "name": "stdout",
     "output_type": "stream",
     "text": [
      " \n",
      "The polynomial f associated to the trace  [1, 0, 1, 1]  is:  Poly(x**3 - 4*x**2 - x + 5, x, modulus=17)\n"
     ]
    }
   ],
   "source": [
    "# #Lagrange Interpolation\n",
    "# l1 = [0] * N\n",
    "# f = poly(0,x,domain=F)\n",
    "# for i in range(0,N):\n",
    "#     l1[i] = 1\n",
    "#     for j in range(0,N):\n",
    "#         if j != i:\n",
    "#             l1[i] = l1[i] * (x - G[j]) * F_inv[(G[i] - G[j] - 1) % M]\n",
    "#     f = f + A[i] * l1[i]\n",
    "# f = poly(f, domain = F)\n",
    "\n",
    "# Inverse Number Theoretic Transform (INTT)\n",
    "f = intt(A, prime=M)\n",
    "f = Poly.from_list(f[::-1], x, domain = F)\n",
    "print(' ')\n",
    "print('The polynomial f associated to the trace ', A, ' is: ', f)"
   ]
  },
  {
   "cell_type": "markdown",
   "id": "62e0880a-7df6-48bb-958f-78bf9c799cf7",
   "metadata": {},
   "source": [
    "## 2.2 Evaluate the Polynomial on a Larger Domain"
   ]
  },
  {
   "cell_type": "code",
   "execution_count": 12,
   "id": "dbdd13db-976c-4a6d-9d26-13f5fbc4b09d",
   "metadata": {},
   "outputs": [
    {
     "name": "stdout",
     "output_type": "stream",
     "text": [
      "Calculate f(x) for L [1, 10, 10, 0, 0, 8, 0, 8, 1, 13, 15, 9, 1, 6, 12, 3]\n",
      "Calculate f(x) only for G [1, 0, 1, 1]\n"
     ]
    }
   ],
   "source": [
    "#Define domain L where polynomial is evaluated\n",
    "L = np.array(range(1,M))\n",
    "\n",
    "# #Calculate f(x) for x in L\n",
    "# f_yy = [0] * len(L)\n",
    "# for i in range(0,len(L)):\n",
    "#     f_yy[i] = toInt(f(i+1))\n",
    "# print('Calculate f(x) for L', f_yy)\n",
    "\n",
    "#Calculate f(x) only for x in G to color dots red\n",
    "# f_G = [0] * N\n",
    "# for i in range(0,N):\n",
    "#     f_G[i] = toInt(f(G[i])) \n",
    "# print('Calculate f(x) only for G', f_G)\n",
    "\n",
    "f_coeffs = f.all_coeffs()[::-1]\n",
    "f_coeffs_L = f_coeffs+[0 for i in range(M-len(f_coeffs)-1)] # coefficiant for domain L\n",
    "#Calculate f(x) for x in L with NTT\n",
    "f_yy = ntt(f_coeffs_L, prime=M)\n",
    "print('Calculate f(x) for L', f_yy)\n",
    "\n",
    "#Calculate f(x) only for x in G with NTT\n",
    "f_G = ntt(f_coeffs, prime=M)\n",
    "print('Calculate f(x) only for G', f_G)"
   ]
  },
  {
   "cell_type": "code",
   "execution_count": 13,
   "id": "dead1a45-61b1-4938-9451-4d1817de65b4",
   "metadata": {},
   "outputs": [
    {
     "data": {
      "image/png": "[encoded data removed]",
      "text/plain": [
       "<Figure size 1600x500 with 2 Axes>"
      ]
     },
     "metadata": {},
     "output_type": "display_data"
    }
   ],
   "source": [
    "#Calculate f(x) in Euclidean space\n",
    "coeffs = f.all_coeffs()[::-1]\n",
    "yy = np.array([np.sum(np.array([coeffs[i]*(j**i) for i in range(len(coeffs))])) for j in L]) #caluclate f(x) for L\n",
    "yy1 = np.array([np.sum(np.array([coeffs[i]*(j**i) for i in range(len(coeffs))])) for j in G]) #caluclate f(x) only for G\n",
    "\n",
    "#Plot Graph\n",
    "fig, (ax1, ax2) = plt.subplots(1, 2)\n",
    "fig.set_size_inches(16, 5)\n",
    "ax1.scatter(L, f_yy, zorder = 1, label = r'$f(x), x \\in L$')\n",
    "ax1.scatter(G,f_G, color = 'red', zorder = 2, label = r'$f(x), x \\in G$')\n",
    "ax1.plot(L,[0]*L, color = 'green', zorder = 1)\n",
    "ax1.plot(L,[0]*L + 1, color = 'green', zorder = 1)\n",
    "ax1.set_ylim([-0.5, M-0.5])\n",
    "ax1.legend(loc='best', shadow=True, fontsize='x-large')\n",
    "ax2.plot(L, yy, zorder = 1, label = r'$f(x), x \\in L$')\n",
    "ax2.scatter(G,yy1, color = 'red', zorder = 2, label = r'$f(x), x \\in G$')\n",
    "ax2.legend(loc='best', shadow=True, fontsize='x-large')\n",
    "plt.show()"
   ]
  },
  {
   "cell_type": "markdown",
   "id": "fe53467f-5282-4ebb-af81-fcdb85477b85",
   "metadata": {},
   "source": [
    "## 2.3 Apply Constraints to Polynomial"
   ]
  },
  {
   "cell_type": "markdown",
   "id": "12c59e96-313c-417e-8d7d-0efe21f802e5",
   "metadata": {},
   "source": [
    "We now combine the constraint defined above with the polynomial $f$ to get $c(x) = f(x)^2 -f(x)$"
   ]
  },
  {
   "cell_type": "code",
   "execution_count": 14,
   "id": "67a7b617-818b-4066-847a-77f81ca90ae4",
   "metadata": {},
   "outputs": [
    {
     "name": "stdout",
     "output_type": "stream",
     "text": [
      "Poly(y**2 - y, y, domain='ZZ')\n"
     ]
    }
   ],
   "source": [
    "constraint = poly(y**2 - y)      # The only elements that are roots of these constraints are 0 and 1.\n",
    "print(constraint)"
   ]
  },
  {
   "cell_type": "code",
   "execution_count": 15,
   "id": "40b9dade-ecb8-434e-b708-7c0e8dd8f786",
   "metadata": {},
   "outputs": [
    {
     "name": "stdout",
     "output_type": "stream",
     "text": [
      "We have c(x) =  Poly(x**6 - 8*x**5 - 3*x**4 - x**2 + 8*x + 3, x, modulus=17)\n"
     ]
    }
   ],
   "source": [
    "#Get constraint polynomial\n",
    "c = sympy.compose(constraint,f)\n",
    "c = poly(c,x,domain = F)\n",
    "print('We have c(x) = ', c)"
   ]
  },
  {
   "cell_type": "code",
   "execution_count": 16,
   "id": "d8b71dfb-512e-42b6-ae6f-c5f05c5818d1",
   "metadata": {},
   "outputs": [
    {
     "data": {
      "image/png": "[encoded data removed]",
      "text/plain": [
       "<Figure size 640x480 with 1 Axes>"
      ]
     },
     "metadata": {},
     "output_type": "display_data"
    }
   ],
   "source": [
    "#Calculate c(x) for x in L\n",
    "c_yy = [0] * len(L)\n",
    "for i in range(0,len(L)):\n",
    "    c_yy[i] = toInt(c(i+1))\n",
    "\n",
    "##Calculate c(x) only for x in G\n",
    "c_G = [0] * N\n",
    "for i in range(0,N):\n",
    "    c_G[i] = toInt(c(G[i]))\n",
    "\n",
    "##Plot graph\n",
    "plt.scatter(L, c_yy, zorder = 1, label = r'$c(x), x \\in L$')\n",
    "plt.scatter(G,c_G, color = 'red', zorder = 2, label = r'$c(x), x \\in G$')\n",
    "plt.ylim([-0.5, M-0.5])\n",
    "plt.legend(loc=9, shadow=True, fontsize='x-large')\n",
    "plt.show()"
   ]
  },
  {
   "cell_type": "markdown",
   "id": "6b08b306-1e3c-450c-b270-e0cdd64a3916",
   "metadata": {},
   "source": [
    "## 2.4 Create the Composition Polynomial"
   ]
  },
  {
   "cell_type": "markdown",
   "id": "ec7fcad9-cca0-41a7-ac62-b8d447c8f6c2",
   "metadata": {},
   "source": [
    "We now define the Composition Polynomial, i.e.  $p(x) = \\dfrac{c(x)}{x^N-1}$"
   ]
  },
  {
   "cell_type": "code",
   "execution_count": 17,
   "id": "06bf0f0f-c600-40e4-ae11-70d1c2ccb403",
   "metadata": {},
   "outputs": [
    {
     "name": "stdout",
     "output_type": "stream",
     "text": [
      "Composition polynomial:  Poly(x**2 - 8*x - 3, x, modulus=17)  , The remainder is:  Poly(0, x, modulus=17)\n"
     ]
    }
   ],
   "source": [
    "#First calcualte the denominator\n",
    "u = poly(x**N - 1, domain = F)  \n",
    "\n",
    "#Calculate the composition polynomial\n",
    "pRaw = sympy.div(c, u, domain = F)\n",
    "p = pRaw[0]\n",
    "pRemainder = pRaw[1]\n",
    "print('Composition polynomial: ', p, ' , The remainder is: ', pRemainder);"
   ]
  },
  {
   "cell_type": "code",
   "execution_count": 18,
   "id": "efe64072-dc36-4636-aaa7-e5937c335338",
   "metadata": {},
   "outputs": [
    {
     "data": {
      "image/png": "[encoded data removed]",
      "text/plain": [
       "<Figure size 640x480 with 1 Axes>"
      ]
     },
     "metadata": {},
     "output_type": "display_data"
    }
   ],
   "source": [
    "#Calculate p(x) for x in L\n",
    "p_yy = [0] * len(L)\n",
    "for i in range(0,len(L)):\n",
    "    p_yy[i] = toInt(p(i+1))\n",
    "\n",
    "##Calculate p(x) only for x in G\n",
    "p_G = [0] * N\n",
    "for i in range(0,N):\n",
    "    p_G[i] = toInt(p(G[i]))\n",
    "\n",
    "##Plot graph\n",
    "plt.scatter(L, p_yy, zorder = 1, label = r'$p(x), x \\in L$')\n",
    "plt.scatter(G,p_G, color = 'red', zorder = 2, label = r'$p(x), x \\in G$')\n",
    "plt.ylim([-0.5, M-0.5])\n",
    "plt.legend(loc='lower left', bbox_to_anchor=(0, 0.05), shadow=True, fontsize='x-large')\n",
    "plt.show()"
   ]
  },
  {
   "cell_type": "markdown",
   "id": "ae7bc34c-f473-4162-aa47-b926ac833588",
   "metadata": {},
   "source": [
    "## 2.5 Commitments"
   ]
  },
  {
   "cell_type": "markdown",
   "id": "b9eb8df8-5534-4666-8eeb-c5070f350f68",
   "metadata": {},
   "source": [
    "The prover now commits to $f(x)$ and $p(x)$ in Merkle trees. We use the Merkle tree script from Starkware."
   ]
  },
  {
   "cell_type": "code",
   "execution_count": 19,
   "id": "d55631cb-230e-437d-a647-ae7bf38681b5",
   "metadata": {},
   "outputs": [
    {
     "name": "stdout",
     "output_type": "stream",
     "text": [
      "Prover sends Merkle root of MT_f to verifier: \n",
      "b212585e136aea0d6cc952c28aa8a6228c19a686f41ded25b9d70556b6c6aae0\n",
      "The leaves of MT_f are:  [1, 10, 10, 0, 0, 8, 0, 8, 1, 13, 15, 9, 1, 6, 12, 3]\n",
      " \n",
      "Prover sends Merkle root of MT_p to verifier: \n",
      "8cfb8ce05383018cb1411583f34dec5ba7531e34941c2315db01c9cf89138659\n",
      "The leaves of MT_p are:  [7, 2, 16, 15, 16, 2, 7, 14, 6, 0, 13, 11, 11, 13, 0, 6]\n"
     ]
    }
   ],
   "source": [
    "#Build Merkle tree\n",
    "MT_f = MerkleTree(f_yy) # merkle of calculated f(x) for L\n",
    "MT_p = MerkleTree(p_yy) # merkle of calculated p(x) for L\n",
    "\n",
    "#Get Merkle roots\n",
    "root_f = MT_f.root\n",
    "root_p = MT_p.root\n",
    "\n",
    "print('Prover sends Merkle root of MT_f to verifier: ')\n",
    "print(root_f)\n",
    "print('The leaves of MT_f are: ', MT_f.data); print(' ')\n",
    "print('Prover sends Merkle root of MT_p to verifier: ')\n",
    "print(root_p)\n",
    "print('The leaves of MT_p are: ', MT_p.data)"
   ]
  },
  {
   "cell_type": "markdown",
   "id": "bf3b8119-2b39-4bd0-9b1f-73fb37e8ac40",
   "metadata": {},
   "source": [
    "## 2.6. Querying"
   ]
  },
  {
   "cell_type": "markdown",
   "id": "5825d662-8393-4212-8ef6-c5920455f30b",
   "metadata": {},
   "source": [
    "Motivation of why we want to query the equation $p(x)u(x) = c(x)$."
   ]
  },
  {
   "cell_type": "code",
   "execution_count": 20,
   "id": "acdd8276-858f-41ea-895b-96295a138fd5",
   "metadata": {},
   "outputs": [
    {
     "data": {
      "image/png": "[encoded data removed]",
      "text/plain": [
       "<Figure size 1600x500 with 2 Axes>"
      ]
     },
     "metadata": {},
     "output_type": "display_data"
    }
   ],
   "source": [
    "#Define p_false\n",
    "p_false = poly(15*x**2+6*x+13, domain = F)\n",
    "c_false = p_false*u\n",
    "\n",
    "#Calculate y values\n",
    "p_false_yy = [0] * len(L)\n",
    "c_false_yy = [0] * len(L)\n",
    "for i in range(0,len(L)):\n",
    "    p_false_yy[i] = toInt(p_false(i+1))\n",
    "    c_false_yy[i] = toInt(c_false(i+1))\n",
    "\n",
    "#Plot Graph\n",
    "fig, (ax1, ax2) = plt.subplots(1, 2)\n",
    "fig.set_size_inches(16, 5)\n",
    "ax1.scatter(L, p_yy, marker = 8, color = 'red', zorder = 2, label = '$p(x)$')\n",
    "ax1.scatter(L, p_false_yy, marker = 9 ,color = 'blue', zorder = 2, label = '$p_{false}(x)$')\n",
    "ax1.plot(L,[0]*L, color = 'green', zorder = 1)\n",
    "ax1.plot(L,[0]*L + 1, color = 'green', zorder = 1)\n",
    "ax1.set_ylim([-0.5, M-0.5])\n",
    "ax1.legend(loc='center left', shadow=True, fontsize='x-large')\n",
    "ax2.scatter(L, c_yy, marker = 8, color = 'red', zorder = 2, label = '$c(x)$')\n",
    "ax2.scatter(L, c_false_yy, marker = 9 ,color = 'blue', zorder = 2, label = '$c_{false}(x)$')\n",
    "ax2.plot(L,[0]*L, color = 'green', zorder = 1)\n",
    "ax2.plot(L,[0]*L + 1, color = 'green', zorder = 1)\n",
    "ax2.set_ylim([-0.5, M-0.5])\n",
    "ax2.legend(loc='best', shadow=True, fontsize='x-large')\n",
    "plt.show()"
   ]
  },
  {
   "cell_type": "markdown",
   "id": "7873ea92-2fd7-4b66-92cc-243948e7dd2f",
   "metadata": {},
   "source": [
    "### Querying Protocol"
   ]
  },
  {
   "cell_type": "markdown",
   "id": "ea49abe2-c488-4df6-8b43-ac97595ecdd7",
   "metadata": {},
   "source": [
    "The verifier queries the prover for values $\\{z\\in L | z\\notin G \\}$.\\\n",
    "The prover returns $f(z)$, $p(z)$ and the Merkle paths corresponding to $z$.\\\n",
    "The verifier checks whether (i) the received values fit the commitment and (ii) the equation\n",
    "$p(z) = \\dfrac{f(z)^2-f(z)}{z^N-1}$"
   ]
  },
  {
   "cell_type": "code",
   "execution_count": 21,
   "id": "482b3a26-130f-4e91-be3f-3e04f4af4b59",
   "metadata": {},
   "outputs": [
    {
     "name": "stdout",
     "output_type": "stream",
     "text": [
      "The selected random numbers are:  [3, 14]\n",
      " \n"
     ]
    }
   ],
   "source": [
    "#Choose number of queries q\n",
    "q = 2\n",
    "\n",
    "#Get random numbers, set seed to 70 for replicabiltiy\n",
    "assert q <= len(L)-N, \"You query more often than possible, reduce q\"\n",
    "np.random.seed(70)\n",
    "z = list(np.random.choice(np.delete(L,G-1,0), q, replace=False)) #Exclude G values from possible queries\n",
    "\n",
    "print('The selected random numbers are: ', z); print(' ')"
   ]
  },
  {
   "cell_type": "code",
   "execution_count": 22,
   "id": "811df3d7-5366-4d40-ab4d-7fa918724634",
   "metadata": {},
   "outputs": [
    {
     "name": "stdout",
     "output_type": "stream",
     "text": [
      "-----------------\n",
      "Query  1 : \n",
      "Verifier queries: z= 3\n",
      " \n",
      "Prover sends: f(3) = 10 and p(3) = 16,\n",
      "the correpsonding Merkle Paths for f(z):\n",
      "['f9c901cd6ec91ac1e9189fa681fe6e5266f37854449aab61f514371bf98bffbd', 'f375975f10e5cf8d08d3f8624e6440bdd8b1bc01d4bffb6da61f784914ec20da', '64711ec8699b9eebb8203253fdc41f016b806768baa087f98e2a8a11edf39ffd', '5feceb66ffc86f38d952786c6d696c79c2dbc239dd4e91b46729d73a27fb57e9']\n",
      "and for p(z):\n",
      "['9cd7ba58726349f8f68a78f5b9d162cece7c64ade8998e2226f4b02904fbf601', 'cd7c27e0562023f47c00a760175f93c1bbbe8e980045b3a1ca468d0319f5cbb1', '1afb6b2b218b5e02b7cbe02e89d4e26ebc322e045ada4a719d3cc1416b82736b', 'e629fa6598d732768f7c726b4b621285f9c3b85303900aa912017db7617d8bdb']\n",
      " \n",
      "(i): Verifier now checks equation: p(z)(z^N-1) = f(z)^2-f(z)\n",
      "LHS yields:  5 ; RHS yields:  5\n",
      "Equation correct, proof continues\n",
      " \n",
      "(ii): Verifier now checks whether received p(z) and f(z) correspond to Merkle root received upfront\n",
      "f(z) corresponds to commitment, proof can continue\n",
      "p(z) corresponds to commitment, proof can continue\n",
      "-----------------\n",
      "Query  2 : \n",
      "Verifier queries: z= 14\n",
      " \n",
      "Prover sends: f(14) = 13 and p(14) = 13,\n",
      "the correpsonding Merkle Paths for f(z):\n",
      "['f17a71cec41ec28dfe019054f1a317aed95ec240a445656a2fffc7ac62c04248', 'f3ce15647b96350539401491c1eef643c11882b1c7c42b587d029032b08ca331', 'ede372d0f333229c3d9359dfa6d8cf5236fc3dc7e94da6145c0b7625eda8c204', '6b86b273ff34fce19d6b804eff5a3f5747ada4eaa22f1d49c01e52ddb7875b4b']\n",
      "and for p(z):\n",
      "['83507e24a87dfa0fad00d5873fbd22954099f96a6bfc8fafd499cf5878810e7f', '1424a15e613797a4671f7b5055e13b24931e7667cb69d5f710d4d5767f37ef0d', '4855db28f27d8fb8229da6eaf80809081dadff08ff5ab8d4275fc7f9365e54f2', '4fc82b26aecb47d2868c4efbe3581732a3e7cbcc6c2efb32062c08170a05eeb8']\n",
      " \n",
      "(i): Verifier now checks equation: p(z)(z^N-1) = f(z)^2-f(z)\n",
      "LHS yields:  3 ; RHS yields:  3\n",
      "Equation correct, proof continues\n",
      " \n",
      "(ii): Verifier now checks whether received p(z) and f(z) correspond to Merkle root received upfront\n",
      "PROOF FAILS: f(z) DOES NOT corresponds to commitment!\n"
     ]
    }
   ],
   "source": [
    "#Querying rounds\n",
    "for i in range(0,len(z)):\n",
    "    print('-----------------')\n",
    "    print('Query ', i+1,': ')\n",
    "    print('Verifier queries: z=',z[i]); print(' ')\n",
    "    \n",
    "    #Prover sends information\n",
    "    proof_f = toInt(f(z[i]))\n",
    "    proof_p = toInt(p(z[i]))\n",
    "    print(f'Prover sends: f({z[i]}) = {proof_f} and p({z[i]}) = {proof_p},')\n",
    "    print('the correpsonding Merkle Paths for f(z):')\n",
    "    leafID = np.where(L==z[i])[0][0] #index of z[i] in L\n",
    "    path_f = MT_f.get_authentication_path(leafID)\n",
    "    print(path_f)\n",
    "    print('and for p(z):')\n",
    "    path_p = MT_p.get_authentication_path(leafID)\n",
    "    print(path_p)\n",
    "    print(' ')\n",
    "\n",
    "    #Calculate equation \n",
    "    print('(i): Verifier now checks equation: p(z)(z^N-1) = f(z)^2-f(z)')\n",
    "    LHS = (proof_p*(toInt(z[i])**N-1)) % M\n",
    "    RHS = ((proof_f**2) - proof_f) % M\n",
    "    print('LHS yields: ', LHS, '; RHS yields: ', RHS)\n",
    "    if LHS==RHS:\n",
    "        print(f'Equation correct, proof continues')\n",
    "    else:\n",
    "        print(f'PROOF FAILS: Equation not correct.'); break\n",
    "    print(' ')\n",
    "    \n",
    "    #Check if Merkle root fits the one received before\n",
    "    print('(ii): Verifier now checks whether received p(z) and f(z) correspond to Merkle root received upfront')\n",
    "    if verify_decommitment(leafID, proof_f, path_f, root_f): #check for f\n",
    "        print('f(z) corresponds to commitment, proof can continue')\n",
    "    else:\n",
    "        print('PROOF FAILS: f(z) DOES NOT corresponds to commitment!'); break\n",
    "    if verify_decommitment(leafID, proof_p, path_p, root_p): #check for p\n",
    "        print('p(z) corresponds to commitment, proof can continue')\n",
    "    else:\n",
    "        print('PROOF FAILS: p(z) DOES NOT corresponds to commitment!'); break"
   ]
  },
  {
   "cell_type": "markdown",
   "id": "45e59cc2-b502-4946-b76a-afea93c3ce0d",
   "metadata": {},
   "source": [
    "# 3 Low-Degree Testing"
   ]
  },
  {
   "cell_type": "markdown",
   "id": "58b0b7e8-ddc5-4df6-85af-8adba5eadc36",
   "metadata": {},
   "source": [
    "The objective of the low-degree testing is that the verifier can learn whether the composition polynomial is of low degree by just a few querying steps."
   ]
  },
  {
   "cell_type": "markdown",
   "id": "da7d6368-4eb0-4f86-9e40-0aac96d42a06",
   "metadata": {},
   "source": [
    "## 3.1 Motivation"
   ]
  },
  {
   "cell_type": "markdown",
   "id": "611edd74-b346-4075-b640-e6402959f796",
   "metadata": {},
   "source": [
    "Here we calcluate another polynomial $f^{H}$ of high degree that fits $f$ in all points $x \\in L$ except for one $x$ where $x\\notin G$. (Specifically we set $f^H(16)=4$)\\\n",
    "This shows that it is possible with a high degree polynomial to be sufficiently close to a low degree polynomial such that the tests that we did so far are not sufficient to trust the prover. "
   ]
  },
  {
   "cell_type": "code",
   "execution_count": 23,
   "id": "90e17dac-3699-4e6f-8f37-d988fa27f5bd",
   "metadata": {},
   "outputs": [
    {
     "data": {
      "image/png": "[encoded data removed]",
      "text/plain": [
       "<Figure size 1600x500 with 2 Axes>"
      ]
     },
     "metadata": {},
     "output_type": "display_data"
    }
   ],
   "source": [
    "#Define polys\n",
    "f_H = poly(x**15 + 4*x**14 + 6*x**13 +  11*x**12 + 6*x**11 + 5*x**10 + 6*x**9 + 13*x**8 + 7*x**7 + 7*x**6 + 12*x**5 + 8*x**4 + 2*x**3 + 2*x**2 + 9*x + 3, x, modulus=17)\n",
    "p_H  = poly(13*x**15 + 8*x**14 + 11*x**13 + 2*x**12 + 16*x**11 + 9*x**10 + 3*x**9 + 11*x**8 + 6*x**7 + 14*x**6 + 13*x**5 + 4*x**4 + 8*x**3 + 3*x**2 + 2*x + 14, x, modulus=17)\n",
    "\n",
    "#Define vector for u\n",
    "u_vec = [0]*L\n",
    "for i in range(len(L)):\n",
    "    u_vec[i] = ((i+1)**4-1)%M\n",
    "u_vec[i] = np.array(u_vec[i])\n",
    "\n",
    "#Calculate y points of polys\n",
    "f_H_yy = [0] * len(L)\n",
    "p_H_yy = [0] * len(L)\n",
    "for i in range(0,len(L)):\n",
    "    f_H_yy[i] = toInt(f_H(i+1))\n",
    "    p_H_yy[i] = toInt(p_H(i+1))\n",
    "\n",
    "#Calculate c1 and c2\n",
    "c1_H_yy = [0]*len(L)\n",
    "c2_H_yy = [0]*len(L)\n",
    "for k in range(len(L)):\n",
    "    c1_H_yy[k] = (p_H_yy[k]*u_vec[k])%M         \n",
    "    c2_H_yy[k] = ((f_H_yy[k])**2-f_H_yy[k])%M  \n",
    "\n",
    "##Calculate f(x) only for x in G\n",
    "f_H_G = [0] * N\n",
    "for i in range(0,N):\n",
    "    f_H_G[i] = toInt(f_H(G[i]))\n",
    "\n",
    "#Plot Graph\n",
    "fig, (ax1,ax2) = plt.subplots(1,2)\n",
    "fig.set_size_inches(16, 5)\n",
    "ax1.scatter(L, f_H_yy, color = 'blue', zorder = 1, label = '$f^H(x) x \\in L$')\n",
    "ax1.scatter(G, f_H_G, color = 'red', zorder = 2, label = '$f^H(x) x \\in G$')\n",
    "ax1.plot(L,[0]*L, color = 'green', zorder = 1)\n",
    "ax1.plot(L,[0]*L + 1, color = 'green', zorder = 1)\n",
    "ax1.set_ylim([-0.5, M-0.5])\n",
    "ax1.legend(loc='best', shadow=True, fontsize='x-large')\n",
    "ax2.scatter(L, c1_H_yy, marker = 8, color = 'red', zorder = 2, label = '$c_1^H(x)$')\n",
    "ax2.scatter(L, c2_H_yy, marker = 9 ,color = 'blue', zorder = 2, label = '$c_2^H(x)$')\n",
    "ax2.plot(L,[0]*L, color = 'green', zorder = 1)\n",
    "ax2.plot(L,[0]*L + 1, color = 'green', zorder = 1)\n",
    "ax2.set_ylim([-0.5, M-0.5])\n",
    "ax2.legend(loc='best', shadow=True, fontsize='x-large')\n",
    "plt.show()"
   ]
  },
  {
   "cell_type": "markdown",
   "id": "b1c2f5c2-f5f6-4bfc-bdcb-bace6cf3fe90",
   "metadata": {},
   "source": [
    "## 3.2 Setup"
   ]
  },
  {
   "cell_type": "markdown",
   "id": "b8203b48-3f6d-443e-ba94-5564da23f5dc",
   "metadata": {},
   "source": [
    "We now define $\\bar{d}$, i.e. the highest possible degree for the composition polynomial.  \\\n",
    "In our example this is defined by: $\\bar{d} = 2(N-1)-N = N-2$."
   ]
  },
  {
   "cell_type": "code",
   "execution_count": 24,
   "id": "2a201760-3732-4b9f-93b5-29cf72fe2f85",
   "metadata": {},
   "outputs": [
    {
     "name": "stdout",
     "output_type": "stream",
     "text": [
      "The highest possible degree of the composition polynomial is: 2\n"
     ]
    }
   ],
   "source": [
    "d_bar = N - 2\n",
    "print('The highest possible degree of the composition polynomial is:', d_bar)"
   ]
  },
  {
   "cell_type": "markdown",
   "id": "2c9bb46e-36ef-40b9-a9b4-2b776ea1e912",
   "metadata": {},
   "source": [
    "## 3.3 Commitment Round"
   ]
  },
  {
   "cell_type": "markdown",
   "id": "4464dc1a-1a4c-49df-b482-4a48c3c43c2c",
   "metadata": {},
   "source": [
    "In the commitment round, the prover executes the FRI protocol.\\\n",
    "We know that after applying the FRI operator exactly $\\lambda = \\log_2(\\bar{d})+1$ times, the polynomial is reduced to a constant. \\\n",
    "In each round, the verifier sends a random $\\alpha\\in F$ which the prover needs.  \\\n",
    "The prover commits in each round to the current state and at the end sends the remaining constant to the verifier."
   ]
  },
  {
   "cell_type": "code",
   "execution_count": 25,
   "id": "5ca1663c-bed2-43ef-881c-3258fc2c2445",
   "metadata": {},
   "outputs": [
    {
     "name": "stdout",
     "output_type": "stream",
     "text": [
      "The FRI protocol will take 2 iterations.\n"
     ]
    }
   ],
   "source": [
    "#Calculate number of iterations in the FRI protocol\n",
    "Lambda = int(np.log2(d_bar) + 1)\n",
    "print('The FRI protocol will take', Lambda, 'iterations.')"
   ]
  },
  {
   "cell_type": "code",
   "execution_count": 26,
   "id": "221385d2-1eaa-4188-b3b7-2d65b507ee04",
   "metadata": {},
   "outputs": [
    {
     "name": "stdout",
     "output_type": "stream",
     "text": [
      "[Poly(x**2 - 8*x - 3, x, modulus=17), 0, 0]\n"
     ]
    }
   ],
   "source": [
    "#Set a vector to store p_k, ie the polynomials\n",
    "P = [0]*(Lambda+1) \n",
    "P[0] = p\n",
    "print(P)"
   ]
  },
  {
   "cell_type": "code",
   "execution_count": 27,
   "id": "15c86f71-e7f4-4a90-ad57-9f2009af47d7",
   "metadata": {},
   "outputs": [
    {
     "name": "stdout",
     "output_type": "stream",
     "text": [
      "Alphas sent to the prover are:  [10, 15]\n"
     ]
    }
   ],
   "source": [
    "#Set alpha, for replicability set seed to 260  \n",
    "np.random.seed(260)\n",
    "alpha = list(np.random.randint(low = 0,high=M,size=Lambda)) #do it random\n",
    "assert len(alpha) == Lambda, \"Not enough elements for alpha\"\n",
    "print('Alphas sent to the prover are: ',alpha)\n",
    "\n",
    "#Set up vectors to store Merkle tree commitments\n",
    "merkleTrees = [0]*(Lambda-1)\n",
    "merkleRoots = [0]*(Lambda-1)\n",
    "\n",
    "#Define function to get domain\n",
    "def getDomain(L,k):\n",
    "    assert (len(L) & (len(L) - 1)) == 0, \"Size of L is not a power of 2\" #assert size of L is a power of 2\n",
    "    for _ in range(k+1):\n",
    "        L = np.unique(L**2%M)\n",
    "    return L"
   ]
  },
  {
   "cell_type": "code",
   "execution_count": 28,
   "id": "2fae025e-e2d6-4791-9559-7059ab462f1c",
   "metadata": {},
   "outputs": [
    {
     "name": "stdout",
     "output_type": "stream",
     "text": [
      "g 0 = Poly(x - 3, x, modulus=17)\n",
      "h 0 = Poly(-8, x, modulus=17)\n",
      "P[next] Poly(x + 2, x, modulus=17)\n",
      "------------\n",
      "Round  1  of  2\n",
      "The new polynomial is: Poly(x + 2, x, modulus=17)\n",
      "The polynomial is evaluated in: [ 1  2  4  8  9 13 15 16]\n",
      "The leaves of the Merkle tree are:  [3, 4, 6, 10, 11, 15, 0, 1]\n",
      "g 1 = Poly(2, x, modulus=17)\n",
      "h 1 = Poly(1, x, modulus=17)\n",
      "P[next] Poly(0, x, modulus=17)\n",
      "------------\n",
      "Round  2  of  2\n",
      "A constant remains:  0\n",
      " \n",
      "The prover now sends the constant: 0\n",
      "and the Merkle roots to the verifier:\n",
      "['7881ac8565912f59108e1d3a7e01f60b8a4381bc78745af05b4582bfb731484f']\n"
     ]
    }
   ],
   "source": [
    "#Apply the FRI operator Lambda times\n",
    "for k in range(0,Lambda):\n",
    "    #Prover splits p_k into even and odd parts\n",
    "    g = sympy.Poly.from_list(P[k].all_coeffs()[::-1][::2][::-1], x, domain = F)       # Prover separates into even part\n",
    "    h = sympy.Poly.from_list(P[k].all_coeffs()[::-1][1::2][::-1], x, domain = F)      # Prover separates into odd part\n",
    "    print('g', k, '=',g)\n",
    "    print('h', k, '=',h)\n",
    "    #Calculate next p_k polynomial\n",
    "    P[k+1] = g + poly(alpha[k],x,domain=F) * h # g + alpha * h\n",
    "    print('P[next]', P[k+1])\n",
    "    if k == Lambda-1: # last round\n",
    "        constant = int(P[k+1](0))\n",
    "        print('------------')\n",
    "        print('Round ', k+1, ' of ', Lambda)\n",
    "        print('A constant remains: ',toInt(constant))\n",
    "    else:\n",
    "        #####Commit this polynomial over L^2, L^4 etc...\n",
    "        #First get domain\n",
    "        Lcur = getDomain(L,k)\n",
    "        \n",
    "        #Calculate p_k(x) values in this domain for leaves of the Merkle tree\n",
    "        leaves = [0] * len(Lcur)\n",
    "        for i in range(0,len(Lcur)):\n",
    "            leaves[i] = toInt(P[k+1](Lcur[i]))\n",
    "        merkleTrees[k] = MerkleTree(leaves)\n",
    "        merkleRoots[k] = merkleTrees[k].root\n",
    "        print('------------')\n",
    "        print('Round ', k+1, ' of ', Lambda)\n",
    "        print('The new polynomial is:', P[k+1])\n",
    "        print('The polynomial is evaluated in:' , Lcur) #inputs\n",
    "        print('The leaves of the Merkle tree are: ', leaves) #result\n",
    "            \n",
    "#Send constant\n",
    "print(' ')\n",
    "print('The prover now sends the constant:', toInt(constant))\n",
    "print('and the Merkle roots to the verifier:')\n",
    "print(merkleRoots)"
   ]
  },
  {
   "cell_type": "markdown",
   "id": "430611cc-b7a5-43f4-b672-b7660b2f8d22",
   "metadata": {},
   "source": [
    "## 3.4 Querying Round"
   ]
  },
  {
   "cell_type": "code",
   "execution_count": 29,
   "id": "1d1c377b-d636-4a49-8157-74b65cbc41e2",
   "metadata": {},
   "outputs": [
    {
     "name": "stdout",
     "output_type": "stream",
     "text": [
      "The verifier queries for z = 12\n"
     ]
    }
   ],
   "source": [
    "#Define the z that the verifier queries for, for replicability set seed to 2\n",
    "np.random.seed(2) \n",
    "z = np.random.choice(np.delete(L,G-1,0), 1, replace=False)[0] #Exclude G values from possible queries\n",
    "print('The verifier queries for z =',z)"
   ]
  },
  {
   "cell_type": "code",
   "execution_count": 30,
   "id": "19f39575-6dc6-4480-8997-deab7fe9355e",
   "metadata": {},
   "outputs": [
    {
     "name": "stdout",
     "output_type": "stream",
     "text": [
      " \n",
      "Round  1  of  2\n",
      "----------------\n",
      "The prover returns p(12^1)=11 and p(-12^1)=16\n",
      "The verifier finds g(z^2)=5 and h(z^2)=9\n",
      "and then calculates p_1 = g(z^2) + alpha_1 * h(z^2) = 5+10*9 = 10\n",
      " \n",
      "Verifier checks whether calculated p_1=10 correspond to commitment in Merkle tree\n",
      "Prover sends authentification path for leaf number 3, where z=8 and p_1(8)=10 this is:\n",
      " \n",
      "['aa5dfb1acf8e760c89dfac0046887063453a25574f7d8f8b923adf5c82ec4acd', '13656c83d841ea7de6ebf3a89e0038fea9526bd7f686f06f7a692343a8a32dca', 'e7f6c011776e8db7cd330b54174fd76f7d0216b612387a5ffcfb81e6f0919683']\n",
      "and uses this to calculate the Merkle Root\n",
      " \n",
      "p_1=10 corresponds to commitment, proof can continue.\n",
      " \n",
      "Round  2  of  2\n",
      "----------------\n",
      "The prover returns p(12^2)=10 and p(-12^2)=11\n",
      "The verifier finds g(z^4)=2 and h(z^4)=1\n",
      "and then calculates p_2 = g(z^4) + alpha_2 * h(z^4) = 2+15*1 = 0\n",
      "Verifier finds constant 0 which equals 0 received from prover\n",
      "PROOF SUCCESSFUL!\n"
     ]
    }
   ],
   "source": [
    "for k in range(0,Lambda):\n",
    "    print(' ')\n",
    "    print('Round ', k+1, ' of ', Lambda)\n",
    "    print('----------------')\n",
    "    \n",
    "    #verifier queries for p(z^2^k) and p(-z^2^k)\n",
    "    pP = toInt(P[k](toInt(F(z)**(2**k))))\n",
    "    pN = toInt(P[k](toInt(F(-1)*F(z)**(2**k))))\n",
    "    print(f'The prover returns p({z}^{2**k})={pP} and p(-{z}^{2**k})={pN}')\n",
    "    \n",
    "    #Verifier solves system of equations to get g(z^2^k) and h(z^2^k)\n",
    "    h_ver = toInt(F((pP-pN)*F_inv[toInt(F(2)*F(z)**(2**k))-1]))\n",
    "    g_ver = toInt(F(pN) + F(z)**(2**k)*F(h_ver))\n",
    "    print(f'The verifier finds g(z^{2**(k+1)})={g_ver} and h(z^{2**(k+1)})={h_ver}')\n",
    "\n",
    "    #Compute next p_{k+1}(z)\n",
    "    pZ_ver = toInt(F(g_ver) + F(alpha[k])*F(h_ver))\n",
    "    print(f'and then calculates p_{k+1} = g(z^{2**(k+1)}) + alpha_{k+1} * h(z^{2**(k+1)})', \n",
    "          f'= {g_ver}+{alpha[k]}*{h_ver} = {pZ_ver}')\n",
    "    #Check commitment, do not need to check commitment in last round, just compare constants in last round\n",
    "    if k<Lambda-1: \n",
    "        print(' ')\n",
    "        print(f'Verifier checks whether calculated p_{k+1}={pZ_ver} correspond to commitment in Merkle tree')\n",
    "        leafID = np.where(getDomain(L,k)==toInt(F(z)**(2**(k+1))))[0][0] \n",
    "        path = merkleTrees[k].get_authentication_path(leafID)\n",
    "        print(f'Prover sends authentification path for leaf number {leafID}, where z={toInt(F(z)**(2**(k+1)))}',\n",
    "              f'and p_{k+1}({toInt(F(z)**(2**(k+1)))})={toInt(P[k+1](toInt(F(z)**(2**(k+1)))))} this is:')\n",
    "        print(' '); print(path)\n",
    "        print('and uses this to calculate the Merkle Root'); print(' ')\n",
    "        \n",
    "        if verify_decommitment(leafID, pZ_ver, path, merkleRoots[k]): \n",
    "            print(f'p_{k+1}={pZ_ver} corresponds to commitment, proof can continue.')\n",
    "        else:\n",
    "            print(f'PROOF FAILS, p_{k+1}={toInt(pZ_ver)} DOES NOT correspond to commitment!')\n",
    "    else:\n",
    "        print(f'Verifier finds constant {toInt(pZ_ver)} which equals {toInt(constant)} received from prover')\n",
    "        print('PROOF SUCCESSFUL!')"
   ]
  },
  {
   "cell_type": "markdown",
   "id": "394ba784-8b56-4589-a358-9f6aa353b384",
   "metadata": {},
   "source": [
    "# 4 Attack With False Trace"
   ]
  },
  {
   "cell_type": "markdown",
   "id": "23ffda82-0c0a-4fc3-b3ac-b19813e9662c",
   "metadata": {},
   "source": [
    "This part only works for the values in the numerical example, ie $M=17$ and $N=4$."
   ]
  },
  {
   "cell_type": "code",
   "execution_count": 31,
   "id": "fd441fbe-518b-4daf-99fe-d1208f9f20fb",
   "metadata": {},
   "outputs": [
    {
     "name": "stdout",
     "output_type": "stream",
     "text": [
      "The polynomial f_false asociated to the trace  [2 0 1 1]  is:  Poly(-3*x**3 - 8*x**2 - 5*x + 1, x, modulus=17)\n",
      "c polynomial:  Poly(-8*x**6 - 3*x**5 - 8*x**4 - 8*x**3 - 5*x, x, modulus=17)\n",
      "Composition polynomial:  Poly(-8*x**2 - 3*x - 8, x, modulus=17)  , The remainder is:  Poly(-8*x**3 - 8*x**2 - 8*x - 8, x, modulus=17)\n",
      "c_bar polynomial:  Poly(-8*x**6 - 3*x**5 - 8*x**4 + 8*x**2 + 3*x + 8, x, modulus=17)\n"
     ]
    },
    {
     "data": {
      "image/png": "[encoded data removed]",
      "text/plain": [
       "<Figure size 800x500 with 1 Axes>"
      ]
     },
     "metadata": {},
     "output_type": "display_data"
    }
   ],
   "source": [
    "if M==17 and N==4:\n",
    "    #Define the trace that the poly f_false needs to fit\n",
    "    A_false = np.array([2,0,1,1])\n",
    "\n",
    "    #Interpolate values\n",
    "    l1 = [0] * N\n",
    "    f_false = poly(0,x,domain=F)\n",
    "    for i in range(0,N):\n",
    "        l1[i] = 1\n",
    "        for j in range(0,N):\n",
    "            if j != i:\n",
    "                l1[i] = l1[i] * (x - G[j]) * F_inv[(G[i] - G[j] - 1) % M]\n",
    "        f_false = f_false + A_false[i] * l1[i]  \n",
    "    f_false = poly(f_false, domain = F)\n",
    "    print('The polynomial f_false asociated to the trace ', A_false, ' is: ', f_false)\n",
    "\n",
    "    #Calculate c\n",
    "    c_false = sympy.compose(constraint,f_false)\n",
    "    c_false = poly(c_false,x,domain = F)\n",
    "    print('c polynomial: ', c_false)\n",
    "\n",
    "    #Calculate composition polynomial\n",
    "    pRaw_false = sympy.div(c_false, u, domain = F)\n",
    "    p_false = pRaw_false[0]; pRemainder_false = pRaw_false[1]\n",
    "    print('Composition polynomial: ', p_false, ' , The remainder is: ', pRemainder_false)\n",
    "\n",
    "    #Calculate c_bar(x)\n",
    "    c_bar = p_false*u\n",
    "    print('c_bar polynomial: ', c_bar)\n",
    "\n",
    "    #Calculate c_f(x) and c_bar(x) for x in L\n",
    "    c_bar_yy = [0] * len(L)\n",
    "    c_false_yy = [0] * len(L)\n",
    "    for i in range(0,len(L)):\n",
    "        c_bar_yy[i] = toInt(c_bar(i+1))\n",
    "        c_false_yy[i] = toInt(c_false(i+1))\n",
    "\n",
    "    #Plot Graph\n",
    "    fig, (ax1) = plt.subplots(1, 1)\n",
    "    fig.set_size_inches(8, 5)\n",
    "    ax1.scatter(L, c_false_yy, marker = 8, color = 'red', zorder = 2, label = '$c_f(x)$')\n",
    "    ax1.scatter(L, c_bar_yy, marker = 9 ,color = 'blue', zorder = 2, label = r'$\\bar{c}(x)$')\n",
    "    ax1.plot(L,[0]*L, color = 'green', zorder = 1)\n",
    "    ax1.plot(L,[0]*L + 1, color = 'green', zorder = 1)\n",
    "    ax1.set_ylim([-0.5, M-0.5])\n",
    "    ax1.legend(loc='best', shadow=True, fontsize='x-large')\n",
    "    plt.show()"
   ]
  }
 ],
 "metadata": {
  "kernelspec": {
   "display_name": "Python 3 (ipykernel)",
   "language": "python",
   "name": "python3"
  },
  "language_info": {
   "codemirror_mode": {
    "name": "ipython",
    "version": 3
   },
   "file_extension": ".py",
   "mimetype": "text/x-python",
   "name": "python",
   "nbconvert_exporter": "python",
   "pygments_lexer": "ipython3",
   "version": "3.11.7"
  }
 },
 "nbformat": 4,
 "nbformat_minor": 5
}
